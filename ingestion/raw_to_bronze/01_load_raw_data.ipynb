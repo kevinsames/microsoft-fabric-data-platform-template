{
 "cells": [
  {
   "cell_type": "markdown",
   "metadata": {},
   "source": [
    "# Load Raw Data into Bronze Layer\n",
    "Ingest external data into Fabric Lakehouse Bronze layer."
   ]
  },
  {
   "cell_type": "code",
   "execution_count": null,
   "metadata": {},
   "outputs": [],
   "source": [
    "# Example Spark ingestion code\n",
    "df = spark.read.option(\"header\", True).csv(\"/path/to/raw/data.csv\")\n",
    "df.write.mode(\"overwrite\").save(\"Tables/bronze_sales\")"
   ]
  }
 ],
 "metadata": {},
 "nbformat": 4,
 "nbformat_minor": 2
}