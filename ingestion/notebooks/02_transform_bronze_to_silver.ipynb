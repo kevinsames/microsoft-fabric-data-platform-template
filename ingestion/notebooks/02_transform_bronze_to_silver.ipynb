{
 "cells": [
  {
   "cell_type": "markdown",
   "metadata": {},
   "source": [
    "# Transform Bronze to Silver Layer\n",
    "Clean and enrich raw data before writing to the Silver layer."
   ]
  },
  {
   "cell_type": "code",
   "execution_count": null,
   "metadata": {},
   "outputs": [],
   "source": [
    "# Example transformation\n",
    "bronze_df = spark.read.load("Tables/bronze_sales")\n",
    "silver_df = bronze_df.dropna().filter("amount > 0")\n",
    "silver_df.write.mode("overwrite").save("Tables/silver_sales")"
   ]
  }
 ],
 "metadata": {},
 "nbformat": 4,
 "nbformat_minor": 2
}